{
 "cells": [
  {
   "cell_type": "markdown",
   "metadata": {},
   "source": [
    "# 1. What about this code—what’s the output, and why?\n",
    "1. What about this code—what’s the output, and why?\n",
    "X = 'Spam'\n",
    "def func():\n",
    "    X = 'NI'\n",
    "    def nested():\n",
    "        print(X)\n",
    "    nested()\n",
    "\n",
    ">>>func()\n",
    ">>> X\n",
    "\n",
    "2. How about this example: what is its output in Python 3.X, and why?\n",
    "def func():\n",
    "    X = 'NI'\n",
    "    def nested():\n",
    "        nonlocal X\n",
    "        X = 'Spam'\n",
    "    nested()\n",
    "    print(X)\n",
    "    \n",
    ">>> func()\n",
    "\n",
    "3. Write a program which can compute the factorial of a given numbers.\n",
    "The results should be printed in a comma-separated sequence on a single line.\n",
    "Suppose the following input is supplied to the program:\n",
    "3\n",
    "then, the output should be:\n",
    "The factorial of 3 is 6.\n",
    "\n",
    "4. With a given list, write a function to print this list after removing all duplicate values with original order reserved.\n",
    "\n",
    "5. How about this code: what is its output, and why?\n",
    "def func(a, *pargs):\n",
    "    print(a, pargs)\n",
    "    \n",
    ">>> func(1, 2, 3)\n",
    "\n",
    "6. what is the output of this code, and why?\n",
    "def func(a, b, c): \n",
    "    a = 2; b[0] = 'x'; c['a'] = 'y'\n",
    ">>> l=1; m=[1]; n={'a':0}\n",
    ">>> func(l, m, n)\n",
    ">>> l, m, n\n"
   ]
  },
  {
   "cell_type": "code",
   "execution_count": 1,
   "metadata": {},
   "outputs": [
    {
     "name": "stdout",
     "output_type": "stream",
     "text": [
      "NI\n"
     ]
    },
    {
     "data": {
      "text/plain": [
       "'Spam'"
      ]
     },
     "execution_count": 1,
     "metadata": {},
     "output_type": "execute_result"
    }
   ],
   "source": [
    "X = 'Spam'\n",
    "def func():\n",
    "    X = 'NI'\n",
    "    def nested():\n",
    "        print(X)\n",
    "    nested()\n",
    "\n",
    "func()\n",
    "X\n",
    "#NI和‘spam’：definefunction里的x是局部变量，最后的变量X是总体变量，global：即为spam"
   ]
  },
  {
   "cell_type": "code",
   "execution_count": 4,
   "metadata": {},
   "outputs": [
    {
     "name": "stdout",
     "output_type": "stream",
     "text": [
      "Spam\n"
     ]
    }
   ],
   "source": [
    "#2. How about this example: what is its output in Python 3.X, and why?\n",
    "def func():\n",
    "    X = 'NI'\n",
    "    def nested():\n",
    "        nonlocal X\n",
    "        X = 'Spam'\n",
    "    nested()\n",
    "    print(X)\n",
    "    \n",
    "func()\n",
    "#因为x是nonlocal的，相当于改变了x的值，print后就会是新的输出值"
   ]
  },
  {
   "cell_type": "code",
   "execution_count": 5,
   "metadata": {},
   "outputs": [
    {
     "name": "stdout",
     "output_type": "stream",
     "text": [
      "6\n"
     ]
    }
   ],
   "source": [
    "#3. Write a program which can compute the factorial of a given numbers.\n",
    "#The results should be printed in a comma-separated sequence on a single line.\n",
    "#Suppose the following input is supplied to the program:\n",
    "#3\n",
    "#then, the output should be:\n",
    "#The factorial of 3 is 6.\n",
    "def factorial(n):\n",
    "    if n ==0 or n== 1:\n",
    "        return 1\n",
    "    else:\n",
    "        return(n*factorial(n-1))\n",
    "a = factorial(3)\n",
    "print(a)"
   ]
  },
  {
   "cell_type": "code",
   "execution_count": 6,
   "metadata": {},
   "outputs": [
    {
     "name": "stdout",
     "output_type": "stream",
     "text": [
      "['1']\n"
     ]
    }
   ],
   "source": [
    "#4. With a given list, write a function to print this list after removing all duplicate values with original \n",
    "#   order reserved.\n",
    "list1 = ['1','2','3','1']\n",
    "def xxx(list):\n",
    "    result = []\n",
    "    for i in list:\n",
    "        if not i in result:\n",
    "            result.append(i)\n",
    "        return result\n",
    "print(xxx(list1))\n"
   ]
  },
  {
   "cell_type": "code",
   "execution_count": 8,
   "metadata": {},
   "outputs": [
    {
     "name": "stdout",
     "output_type": "stream",
     "text": [
      "1 (2, 3)\n"
     ]
    }
   ],
   "source": [
    "#5. How about this code: what is its output, and why?\n",
    "def func(a, *pargs):\n",
    "    print(a, pargs)\n",
    "    \n",
    "func(1, 2, 3)\n",
    "#1 （2,3）："
   ]
  },
  {
   "cell_type": "code",
   "execution_count": 11,
   "metadata": {},
   "outputs": [
    {
     "data": {
      "text/plain": [
       "(1, ['x'], {'a': 'y'})"
      ]
     },
     "execution_count": 11,
     "metadata": {},
     "output_type": "execute_result"
    }
   ],
   "source": [
    "#6. what is the output of this code, and why?\n",
    "def func(a, b, c): \n",
    "    a = 2; b[0] = 'x'; c['a'] = 'y'\n",
    "   \n",
    "l=1; m=[1]; n={'a':0}\n",
    "    \n",
    "func(l, m, n)\n",
    "l, m, n\n",
    "#答案（1，【‘x’】，{‘a’：‘y’}）"
   ]
  },
  {
   "cell_type": "code",
   "execution_count": null,
   "metadata": {},
   "outputs": [],
   "source": []
  }
 ],
 "metadata": {
  "kernelspec": {
   "display_name": "Python 3",
   "language": "python",
   "name": "python3"
  },
  "language_info": {
   "codemirror_mode": {
    "name": "ipython",
    "version": 3
   },
   "file_extension": ".py",
   "mimetype": "text/x-python",
   "name": "python",
   "nbconvert_exporter": "python",
   "pygments_lexer": "ipython3",
   "version": "3.6.5"
  }
 },
 "nbformat": 4,
 "nbformat_minor": 2
}
