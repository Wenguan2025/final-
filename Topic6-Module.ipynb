{
 "cells": [
  {
   "cell_type": "markdown",
   "metadata": {},
   "source": [
    "# Topic 6: Module <br>\n",
    "<p style=\"color:gray\">Ligang Zhou &nbsp;&nbsp; &nbsp;&nbsp;   School of Business&nbsp;&nbsp; &nbsp;&nbsp;     Macau University of Science and Technology </p>"
   ]
  },
  {
   "cell_type": "markdown",
   "metadata": {},
   "source": [
    "<big> $\\bullet$ module — the highest-level program organization unit, which packages program code and data for reuse <br>\n",
    "    $\\bullet$ provides selfcontained namespaces that minimize variable name clashes across your programs </big>"
   ]
  },
  {
   "cell_type": "markdown",
   "metadata": {},
   "source": [
    "## $\\triangleright$ Why Module"
   ]
  },
  {
   "cell_type": "markdown",
   "metadata": {},
   "source": [
    "<big> $\\bullet$ Code reuse <br>\n",
    "    $\\bullet$ System namespace partitioning <br>\n",
    "    $\\bullet$ Implementing shared services or data\n",
    "</big>"
   ]
  },
  {
   "cell_type": "markdown",
   "metadata": {},
   "source": [
    "## $\\triangleright$ How to Structure a Program?"
   ]
  },
  {
   "cell_type": "markdown",
   "metadata": {},
   "source": [
    "<p> $\\bullet$ A Python program consists of text files containing Python statements,\n",
    "with one main top-level file, and zero or more supplemental files known as modules.</p>\n",
    "<p> $\\bullet$ The top-level file contains the main flow of control\n",
    "of your program—this is the file you run to launch your application.</p>\n",
    "<p> $\\bullet$ The module files are libraries of tools used to collect components used by the top-level file, and possibly elsewhere. </p>\n",
    "<p> $\\bullet$ Top-level files use tools defined in module files, and modules use tools defined\n",
    "in other modules.</p>\n",
    "\n"
   ]
  },
  {
   "cell_type": "markdown",
   "metadata": {},
   "source": [
    "## $\\triangleright$ Module Usages"
   ]
  },
  {
   "cell_type": "markdown",
   "metadata": {},
   "source": [
    "<p>$\\bullet$ The import Statement </p>\n",
    "<p>$\\bullet$ The from Statement </p>\n",
    "<p>$\\bullet$ The from * Statement </p>"
   ]
  },
  {
   "cell_type": "markdown",
   "metadata": {},
   "source": [
    "<img src=\"Fig-import.png\">"
   ]
  },
  {
   "cell_type": "markdown",
   "metadata": {},
   "source": [
    "<big> <p> $\\bullet$ There are more than $142,000$ packages in pypi.org. </p> </big>"
   ]
  },
  {
   "cell_type": "code",
   "execution_count": 1,
   "metadata": {},
   "outputs": [
    {
     "data": {
      "text/plain": [
       "<matplotlib.figure.Figure at 0x15c6f396470>"
      ]
     },
     "metadata": {},
     "output_type": "display_data"
    }
   ],
   "source": [
    "# demonstration of matplotlib  module\n",
    "import matplotlib.pyplot as plt\n",
    "import numpy as np\n",
    "x = np.arange(0, 4*np.pi, 0.01)\n",
    "plt.plot(x, np.sin(x))\n",
    "plt.xlabel(\"x\")\n",
    "plt.ylabel(\"sin(x)\")\n",
    "plt.show()"
   ]
  },
  {
   "cell_type": "markdown",
   "metadata": {},
   "source": [
    "<u> Homework </u> <br>\n",
    "\n",
    "<p> 1. Learn how to find the documentation of a module, such as pandas, sklearn, matplotlib, numpy, etc. </p>\n",
    "<p> 2. Learn how to find a module you want in pypi.org.\n",
    "\n"
   ]
  }
 ],
 "metadata": {
  "kernelspec": {
   "display_name": "Python 3",
   "language": "python",
   "name": "python3"
  },
  "language_info": {
   "codemirror_mode": {
    "name": "ipython",
    "version": 3
   },
   "file_extension": ".py",
   "mimetype": "text/x-python",
   "name": "python",
   "nbconvert_exporter": "python",
   "pygments_lexer": "ipython3",
   "version": "3.6.0"
  }
 },
 "nbformat": 4,
 "nbformat_minor": 2
}
